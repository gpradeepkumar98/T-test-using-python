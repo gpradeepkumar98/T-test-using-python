{
  "nbformat": 4,
  "nbformat_minor": 0,
  "metadata": {
    "colab": {
      "provenance": []
    },
    "kernelspec": {
      "name": "python3",
      "display_name": "Python 3"
    },
    "language_info": {
      "name": "python"
    }
  },
  "cells": [
    {
      "cell_type": "markdown",
      "source": [
        "# **1. One Sample T Test**"
      ],
      "metadata": {
        "id": "iWteVvX7JebM"
      }
    },
    {
      "cell_type": "markdown",
      "source": [
        "An one-sample t-test compares the mean of a sample group to a hypothetical mean value. This test is conducted on a single sample group, hence the name; one-sample test. The test aims to identify whether the sample group belongs to the hypothetical population."
      ],
      "metadata": {
        "id": "cczZWC_cJYMk"
      }
    },
    {
      "cell_type": "code",
      "execution_count": null,
      "metadata": {
        "id": "p6jiSCn9JJt8"
      },
      "outputs": [],
      "source": [
        "import numpy as np\n",
        "from scipy import stats\n",
        "from numpy.random import seed\n",
        "from numpy.random import randn\n",
        "from numpy.random import normal\n",
        "from scipy.stats import ttest_1samp"
      ]
    },
    {
      "cell_type": "code",
      "source": [
        "seed=(1)\n",
        "sample = normal(150,10,20)\n",
        "#Sample mean = 150, Sample SD=10 and sample size = 20\n",
        "print('Sample: ', sample)"
      ],
      "metadata": {
        "colab": {
          "base_uri": "https://localhost:8080/"
        },
        "id": "b1m774GpJdzo",
        "outputId": "3e1d2e3b-0c4f-486a-d1bc-b31bda614193"
      },
      "execution_count": null,
      "outputs": [
        {
          "output_type": "stream",
          "name": "stdout",
          "text": [
            "Sample:  [147.57112423 142.55834856 145.60040443 158.93946196 149.6138883\n",
            " 146.37300468 149.1046817  159.20993016 148.63875732 142.17228109\n",
            " 162.17438335 128.48479686 145.76335249 136.93355365 145.50680426\n",
            " 139.95496749 134.11231758 143.99337158 171.56542186 133.39038069]\n"
          ]
        }
      ]
    },
    {
      "cell_type": "code",
      "source": [
        "#We have claimed population means as 155\n",
        "#Sample mean = 150, Sample SD=10 and sample size = 20\n",
        "#Mean (CLT) = 155, SD (CLT) = (SD of pop/sqrt(sample size))\n",
        "\n",
        "t_stat, p_value = ttest_1samp(sample, popmean=155)\n",
        "print(\"T-statistic value: \", round(t_stat,2))\n",
        "print(\"P-Value: \", round(p_value,2))\n"
      ],
      "metadata": {
        "colab": {
          "base_uri": "https://localhost:8080/"
        },
        "id": "BRO-me_DJxFS",
        "outputId": "72777367-0e28-444d-a3d9-b0835c1f6fd3"
      },
      "execution_count": null,
      "outputs": [
        {
          "output_type": "stream",
          "name": "stdout",
          "text": [
            "T-statistic value:  -3.63\n",
            "P-Value:  0.0\n"
          ]
        }
      ]
    },
    {
      "cell_type": "code",
      "source": [
        "#We will reject the null hypothesis\n",
        "#Population mean is not 155"
      ],
      "metadata": {
        "id": "RrPI97DoJonz"
      },
      "execution_count": null,
      "outputs": []
    },
    {
      "cell_type": "markdown",
      "source": [
        "# **2. Sample T-Test**"
      ],
      "metadata": {
        "id": "wtV1HgXgJ_dW"
      }
    },
    {
      "cell_type": "markdown",
      "source": [
        "H0: The effect of ammonium chloride and urea on grain yield of paddy are equal i.e., μ1 = μ2\n",
        "\n",
        "H1: The effect of ammonium chloride and urea on grain yield of paddy is not equal i.e., μ1 ≠ μ2"
      ],
      "metadata": {
        "id": "Wsjnw8sBKPrQ"
      }
    },
    {
      "cell_type": "code",
      "source": [
        "Ammonium_chloride=[13.4,10.9,11.2,11.8,14,15.3,14.2,12.6,17,16.2,16.5,15.7]\n",
        "Urea=[12,11.7,10.7,11.2,14.8,14.4,13.9,13.7,16.9,16,15.6,16]"
      ],
      "metadata": {
        "id": "lR2WIfDQJ0V_"
      },
      "execution_count": null,
      "outputs": []
    },
    {
      "cell_type": "code",
      "source": [
        "from scipy import stats\n",
        "\n",
        "t_value,p_value=stats.ttest_ind(Urea,Ammonium_chloride)\n",
        "\n",
        "print(\"T-statistic value: \", round(t_value,2))\n",
        "print(\"P-Value: \", round(p_value,2))\n",
        "\n",
        "#So we conclude that the effect of ammonium chloride and urea on grain yield of paddy are equal"
      ],
      "metadata": {
        "colab": {
          "base_uri": "https://localhost:8080/"
        },
        "id": "I9_WNxQFKK6B",
        "outputId": "fce68148-5564-4434-82c8-2858eaa3c476"
      },
      "execution_count": null,
      "outputs": [
        {
          "output_type": "stream",
          "name": "stdout",
          "text": [
            "T-statistic value:  -0.18\n",
            "P-Value:  0.86\n"
          ]
        }
      ]
    },
    {
      "cell_type": "markdown",
      "source": [
        "# **3. Paired T-Test**"
      ],
      "metadata": {
        "id": "escQGMYELaS8"
      }
    },
    {
      "cell_type": "code",
      "source": [
        "#Eleven schoolboys were given a test in Statistics. They were given a Month’s tuition and a second test were held at the end of it.\n",
        "#Do the marks give evidence that the students have benefited from the exam coaching?"
      ],
      "metadata": {
        "id": "OtMsKJcyKhZ-"
      },
      "execution_count": null,
      "outputs": []
    },
    {
      "cell_type": "code",
      "source": [
        "#H0: The students have not benefited from the tuition class. i.e., d = 0\n",
        "#H1: The students have benefited from the tuition class. i.e., d < 0"
      ],
      "metadata": {
        "id": "C1g95prrLu_o"
      },
      "execution_count": null,
      "outputs": []
    },
    {
      "cell_type": "code",
      "source": [
        "first_test =[23, 20, 19, 21, 18, 20, 18, 17, 23, 16, 19]\n",
        "second_test=[24, 19, 22, 18, 20, 22, 20, 20, 23, 20, 18] #after tution from Sir A\n",
        "\n",
        "from scipy import stats\n",
        "t_value,p_value=stats.ttest_rel(first_test,second_test)\n",
        "\n",
        "print(\"T-statistic value: \", round(t_value,2))\n",
        "print(\"P-Value: \", round(p_value,2))"
      ],
      "metadata": {
        "colab": {
          "base_uri": "https://localhost:8080/"
        },
        "id": "XpXcnGs6LxIT",
        "outputId": "07f707f4-5e78-4f24-9047-b89abc633056"
      },
      "execution_count": null,
      "outputs": [
        {
          "output_type": "stream",
          "name": "stdout",
          "text": [
            "T-statistic value:  -1.71\n",
            "P-Value:  0.12\n"
          ]
        }
      ]
    },
    {
      "cell_type": "code",
      "source": [
        "#Because our p value is greater than 5%\n",
        "#We are going to accept the null hypothesis\n",
        "#Two groups are same or similar to each other\n",
        "\n",
        "#Tution had no impact on students score."
      ],
      "metadata": {
        "id": "pS-s6mqoMB6M"
      },
      "execution_count": null,
      "outputs": []
    },
    {
      "cell_type": "code",
      "source": [],
      "metadata": {
        "id": "g7bYpSipM-Em"
      },
      "execution_count": null,
      "outputs": []
    }
  ]
}