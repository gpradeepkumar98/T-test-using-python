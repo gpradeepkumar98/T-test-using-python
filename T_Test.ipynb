{
  "nbformat": 4,
  "nbformat_minor": 0,
  "metadata": {
    "colab": {
      "provenance": []
    },
    "kernelspec": {
      "name": "python3",
      "display_name": "Python 3"
    },
    "language_info": {
      "name": "python"
    }
  },
  "cells": [
    {
      "cell_type": "markdown",
      "source": [
        "# **1. One Sample T Test**"
      ],
      "metadata": {
        "id": "iWteVvX7JebM"
      }
    },
    {
      "cell_type": "markdown",
      "source": [
        "An one-sample t-test compares the mean of a sample group to a hypothetical mean value. This test is conducted on a single sample group, hence the name; one-sample test. The test aims to identify whether the sample group belongs to the hypothetical population."
      ],
      "metadata": {
        "id": "cczZWC_cJYMk"
      }
    },
    {
      "cell_type": "code",
      "execution_count": 1,
      "metadata": {
        "id": "p6jiSCn9JJt8"
      },
      "outputs": [],
      "source": [
        "import numpy as np\n",
        "from scipy import stats\n",
        "from numpy.random import seed\n",
        "from numpy.random import randn\n",
        "from numpy.random import normal\n",
        "from scipy.stats import ttest_1samp"
      ]
    },
    {
      "cell_type": "code",
      "source": [
        "seed=(1)\n",
        "sample = normal(150,10,20)\n",
        "#Sample mean = 150, Sample SD=10 and sample size = 20\n",
        "print('Sample: ', sample)"
      ],
      "metadata": {
        "colab": {
          "base_uri": "https://localhost:8080/"
        },
        "id": "b1m774GpJdzo",
        "outputId": "38f3a21d-c9b9-47cf-fc68-5594734b7d16"
      },
      "execution_count": 2,
      "outputs": [
        {
          "output_type": "stream",
          "name": "stdout",
          "text": [
            "Sample:  [147.04704123 150.09187074 132.23719545 149.77778717 149.85349915\n",
            " 143.94155063 153.79372848 152.22031515 143.15800027 147.32706817\n",
            " 154.24725263 145.37685824 134.85049533 136.06803495 161.30640939\n",
            " 149.10031603 145.60473055 164.74414512 155.23633441 146.58254778]\n"
          ]
        }
      ]
    },
    {
      "cell_type": "code",
      "source": [
        "#We have claimed population means as 155\n",
        "#Sample mean = 150, Sample SD=10 and sample size = 20\n",
        "#Mean (CLT) = 155, SD (CLT) = (SD of pop/sqrt(sample size))\n",
        "\n",
        "t_stat, p_value = ttest_1samp(sample, popmean=155)\n",
        "print(\"T-statistic value: \", round(t_stat,2))\n",
        "print(\"P-Value: \", round(p_value,2))\n"
      ],
      "metadata": {
        "colab": {
          "base_uri": "https://localhost:8080/"
        },
        "id": "BRO-me_DJxFS",
        "outputId": "05f8ebf8-3e3a-40b1-d8f9-4e2b41fa135f"
      },
      "execution_count": 3,
      "outputs": [
        {
          "output_type": "stream",
          "name": "stdout",
          "text": [
            "T-statistic value:  -3.82\n",
            "P-Value:  0.0\n"
          ]
        }
      ]
    },
    {
      "cell_type": "code",
      "source": [
        "#We will reject the null hypothesis\n",
        "#Population mean is not 155"
      ],
      "metadata": {
        "id": "RrPI97DoJonz"
      },
      "execution_count": 4,
      "outputs": []
    },
    {
      "cell_type": "markdown",
      "source": [
        "# **2. Two Sample T-Test**"
      ],
      "metadata": {
        "id": "wtV1HgXgJ_dW"
      }
    },
    {
      "cell_type": "markdown",
      "source": [
        "H0: The effect of ammonium chloride and urea on grain yield of paddy are equal i.e., μ1 = μ2\n",
        "\n",
        "H1: The effect of ammonium chloride and urea on grain yield of paddy is not equal i.e., μ1 ≠ μ2"
      ],
      "metadata": {
        "id": "Wsjnw8sBKPrQ"
      }
    },
    {
      "cell_type": "code",
      "source": [
        "Ammonium_chloride=[13.4,10.9,11.2,11.8,14,15.3,14.2,12.6,17,16.2,16.5,15.7]\n",
        "Urea=[12,11.7,10.7,11.2,14.8,14.4,13.9,13.7,16.9,16,15.6,16]"
      ],
      "metadata": {
        "id": "lR2WIfDQJ0V_"
      },
      "execution_count": 5,
      "outputs": []
    },
    {
      "cell_type": "code",
      "source": [
        "from scipy import stats\n",
        "\n",
        "t_value,p_value=stats.ttest_ind(Urea,Ammonium_chloride)\n",
        "\n",
        "print(\"T-statistic value: \", round(t_value,2))\n",
        "print(\"P-Value: \", round(p_value,2))\n",
        "\n",
        "#So we conclude that the effect of ammonium chloride and urea on grain yield of paddy are equal"
      ],
      "metadata": {
        "colab": {
          "base_uri": "https://localhost:8080/"
        },
        "id": "I9_WNxQFKK6B",
        "outputId": "15be9f2e-e24a-41c8-84d4-cef6992f42a5"
      },
      "execution_count": 6,
      "outputs": [
        {
          "output_type": "stream",
          "name": "stdout",
          "text": [
            "T-statistic value:  -0.18\n",
            "P-Value:  0.86\n"
          ]
        }
      ]
    },
    {
      "cell_type": "markdown",
      "source": [
        "# **3. Paired T-Test**"
      ],
      "metadata": {
        "id": "escQGMYELaS8"
      }
    },
    {
      "cell_type": "code",
      "source": [
        "#Eleven schoolboys were given a test in Statistics. They were given a Month’s tuition and a second test were held at the end of it.\n",
        "#Do the marks give evidence that the students have benefited from the exam coaching?"
      ],
      "metadata": {
        "id": "OtMsKJcyKhZ-"
      },
      "execution_count": null,
      "outputs": []
    },
    {
      "cell_type": "code",
      "source": [
        "#H0: The students have not benefited from the tuition class. i.e., d = 0\n",
        "#H1: The students have benefited from the tuition class. i.e., d < 0"
      ],
      "metadata": {
        "id": "C1g95prrLu_o"
      },
      "execution_count": null,
      "outputs": []
    },
    {
      "cell_type": "code",
      "source": [
        "first_test =[23, 20, 19, 21, 18, 20, 18, 17, 23, 16, 19]\n",
        "second_test=[24, 19, 22, 18, 20, 22, 20, 20, 23, 20, 18] #after tution from Sir A\n",
        "\n",
        "from scipy import stats\n",
        "t_value,p_value=stats.ttest_rel(first_test,second_test)\n",
        "\n",
        "print(\"T-statistic value: \", round(t_value,2))\n",
        "print(\"P-Value: \", round(p_value,2))"
      ],
      "metadata": {
        "colab": {
          "base_uri": "https://localhost:8080/"
        },
        "id": "XpXcnGs6LxIT",
        "outputId": "837faa69-e3dd-4eb8-806c-f72413008d64"
      },
      "execution_count": 7,
      "outputs": [
        {
          "output_type": "stream",
          "name": "stdout",
          "text": [
            "T-statistic value:  -1.71\n",
            "P-Value:  0.12\n"
          ]
        }
      ]
    },
    {
      "cell_type": "code",
      "source": [
        "#Because our p value is greater than 5%\n",
        "#We are going to accept the null hypothesis\n",
        "#Two groups are same or similar to each other\n",
        "\n",
        "#Tution had no impact on students score."
      ],
      "metadata": {
        "id": "pS-s6mqoMB6M"
      },
      "execution_count": null,
      "outputs": []
    },
    {
      "cell_type": "code",
      "source": [],
      "metadata": {
        "id": "g7bYpSipM-Em"
      },
      "execution_count": null,
      "outputs": []
    }
  ]
}